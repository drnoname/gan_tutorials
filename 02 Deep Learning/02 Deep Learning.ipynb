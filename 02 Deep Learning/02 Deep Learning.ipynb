{
 "cells": [
  {
   "cell_type": "markdown",
   "metadata": {},
   "source": [
    "# 02 Deep Learning\n",
    "\n",
    "## 1. Structured and Unstructured Data\n",
    "\n",
    "像素，字符都是uninformative features。例如一幅画的左边有一个烟囱，另一幅画的右边又一个烟囱，这两幅画都有烟囱，但是由不同的像素区域取承载。所以，使用通常ML 的方法（例如LR，random forest，XGBoost等）通常表现会不好。These models rely on the input features to be informative and not spatially dependent. 所以通常机器学习的方法需要首先做很多预处理，例如车牌识别，首先要识别车牌区域，然后居中，然后再做形状变换（正规长方形）。\n",
    "\n",
    "所以deep learning的一个贡献是，通过叠加很多层，自动从raw data 中来build high level features (representations)，每一层都是对前一层数据的一个转换（形状变换）。整个过程如下图所示.\n",
    "\n",
    "<img src=\"figures/deep_neural_networks.png\" alt=\"drawing\" width=\"600\"/>\n",
    "\n",
    "如何来找呢？train the weights for each layer. \n",
    "\n"
   ]
  },
  {
   "cell_type": "markdown",
   "metadata": {},
   "source": [
    "## 2. CNN\n",
    "\n",
    "- stride\n",
    "- padding\n",
    "\n",
    "下图显示了一个3 × 3 × 1 kernel (gray) being passed over a 5 × 5 × 1 input image (blue), with padding=\"same” and strides = 1, to generate the 5 × 5 × 1 output (green)\n",
    "\n",
    "<img src=\"figures/padding.png\" alt=\"drawing\" width=\"500\"/>\n",
    "\n",
    "padding = \"same\" 可以很好的帮我们跟踪每一层tensor 的尺寸。\n",
    "\n",
    "filter 中的weights 是CNN 层学到的参数。"
   ]
  },
  {
   "cell_type": "code",
   "execution_count": null,
   "metadata": {},
   "outputs": [],
   "source": []
  }
 ],
 "metadata": {
  "kernelspec": {
   "display_name": "Python 3",
   "language": "python",
   "name": "python3"
  },
  "language_info": {
   "codemirror_mode": {
    "name": "ipython",
    "version": 3
   },
   "file_extension": ".py",
   "mimetype": "text/x-python",
   "name": "python",
   "nbconvert_exporter": "python",
   "pygments_lexer": "ipython3",
   "version": "3.6.10"
  }
 },
 "nbformat": 4,
 "nbformat_minor": 5
}
