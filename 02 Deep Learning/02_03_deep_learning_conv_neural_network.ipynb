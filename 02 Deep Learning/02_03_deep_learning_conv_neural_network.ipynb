{
 "cells": [
  {
   "cell_type": "markdown",
   "metadata": {},
   "source": [
    "# Your first convolutional neural network"
   ]
  },
  {
   "cell_type": "markdown",
   "metadata": {},
   "source": [
    "# imports"
   ]
  },
  {
   "cell_type": "code",
   "execution_count": 1,
   "metadata": {},
   "outputs": [
    {
     "name": "stderr",
     "output_type": "stream",
     "text": [
      "Using TensorFlow backend.\n",
      "/Users/chenwang/opt/anaconda3/envs/tf/lib/python3.6/site-packages/tensorflow/python/framework/dtypes.py:516: FutureWarning: Passing (type, 1) or '1type' as a synonym of type is deprecated; in a future version of numpy, it will be understood as (type, (1,)) / '(1,)type'.\n",
      "  _np_qint8 = np.dtype([(\"qint8\", np.int8, 1)])\n",
      "/Users/chenwang/opt/anaconda3/envs/tf/lib/python3.6/site-packages/tensorflow/python/framework/dtypes.py:517: FutureWarning: Passing (type, 1) or '1type' as a synonym of type is deprecated; in a future version of numpy, it will be understood as (type, (1,)) / '(1,)type'.\n",
      "  _np_quint8 = np.dtype([(\"quint8\", np.uint8, 1)])\n",
      "/Users/chenwang/opt/anaconda3/envs/tf/lib/python3.6/site-packages/tensorflow/python/framework/dtypes.py:518: FutureWarning: Passing (type, 1) or '1type' as a synonym of type is deprecated; in a future version of numpy, it will be understood as (type, (1,)) / '(1,)type'.\n",
      "  _np_qint16 = np.dtype([(\"qint16\", np.int16, 1)])\n",
      "/Users/chenwang/opt/anaconda3/envs/tf/lib/python3.6/site-packages/tensorflow/python/framework/dtypes.py:519: FutureWarning: Passing (type, 1) or '1type' as a synonym of type is deprecated; in a future version of numpy, it will be understood as (type, (1,)) / '(1,)type'.\n",
      "  _np_quint16 = np.dtype([(\"quint16\", np.uint16, 1)])\n",
      "/Users/chenwang/opt/anaconda3/envs/tf/lib/python3.6/site-packages/tensorflow/python/framework/dtypes.py:520: FutureWarning: Passing (type, 1) or '1type' as a synonym of type is deprecated; in a future version of numpy, it will be understood as (type, (1,)) / '(1,)type'.\n",
      "  _np_qint32 = np.dtype([(\"qint32\", np.int32, 1)])\n",
      "/Users/chenwang/opt/anaconda3/envs/tf/lib/python3.6/site-packages/tensorflow/python/framework/dtypes.py:525: FutureWarning: Passing (type, 1) or '1type' as a synonym of type is deprecated; in a future version of numpy, it will be understood as (type, (1,)) / '(1,)type'.\n",
      "  np_resource = np.dtype([(\"resource\", np.ubyte, 1)])\n",
      "/Users/chenwang/opt/anaconda3/envs/tf/lib/python3.6/site-packages/tensorboard/compat/tensorflow_stub/dtypes.py:541: FutureWarning: Passing (type, 1) or '1type' as a synonym of type is deprecated; in a future version of numpy, it will be understood as (type, (1,)) / '(1,)type'.\n",
      "  _np_qint8 = np.dtype([(\"qint8\", np.int8, 1)])\n",
      "/Users/chenwang/opt/anaconda3/envs/tf/lib/python3.6/site-packages/tensorboard/compat/tensorflow_stub/dtypes.py:542: FutureWarning: Passing (type, 1) or '1type' as a synonym of type is deprecated; in a future version of numpy, it will be understood as (type, (1,)) / '(1,)type'.\n",
      "  _np_quint8 = np.dtype([(\"quint8\", np.uint8, 1)])\n",
      "/Users/chenwang/opt/anaconda3/envs/tf/lib/python3.6/site-packages/tensorboard/compat/tensorflow_stub/dtypes.py:543: FutureWarning: Passing (type, 1) or '1type' as a synonym of type is deprecated; in a future version of numpy, it will be understood as (type, (1,)) / '(1,)type'.\n",
      "  _np_qint16 = np.dtype([(\"qint16\", np.int16, 1)])\n",
      "/Users/chenwang/opt/anaconda3/envs/tf/lib/python3.6/site-packages/tensorboard/compat/tensorflow_stub/dtypes.py:544: FutureWarning: Passing (type, 1) or '1type' as a synonym of type is deprecated; in a future version of numpy, it will be understood as (type, (1,)) / '(1,)type'.\n",
      "  _np_quint16 = np.dtype([(\"quint16\", np.uint16, 1)])\n",
      "/Users/chenwang/opt/anaconda3/envs/tf/lib/python3.6/site-packages/tensorboard/compat/tensorflow_stub/dtypes.py:545: FutureWarning: Passing (type, 1) or '1type' as a synonym of type is deprecated; in a future version of numpy, it will be understood as (type, (1,)) / '(1,)type'.\n",
      "  _np_qint32 = np.dtype([(\"qint32\", np.int32, 1)])\n",
      "/Users/chenwang/opt/anaconda3/envs/tf/lib/python3.6/site-packages/tensorboard/compat/tensorflow_stub/dtypes.py:550: FutureWarning: Passing (type, 1) or '1type' as a synonym of type is deprecated; in a future version of numpy, it will be understood as (type, (1,)) / '(1,)type'.\n",
      "  np_resource = np.dtype([(\"resource\", np.ubyte, 1)])\n"
     ]
    }
   ],
   "source": [
    "import numpy as np\n",
    "\n",
    "from keras.layers import Input, Flatten, Dense, Conv2D, BatchNormalization, LeakyReLU, Dropout, Activation\n",
    "from keras.models import Model\n",
    "from keras.optimizers import Adam\n",
    "from keras.utils import to_categorical\n",
    "import keras.backend as K \n",
    "\n",
    "from keras.datasets import cifar10\n",
    "\n",
    "import os\n",
    "os.environ['KMP_DUPLICATE_LIB_OK'] = 'True' # 避免notebook 执行时退出"
   ]
  },
  {
   "cell_type": "markdown",
   "metadata": {},
   "source": [
    "# data"
   ]
  },
  {
   "cell_type": "code",
   "execution_count": 2,
   "metadata": {},
   "outputs": [],
   "source": [
    "NUM_CLASSES = 10"
   ]
  },
  {
   "cell_type": "code",
   "execution_count": 3,
   "metadata": {},
   "outputs": [],
   "source": [
    "(x_train, y_train), (x_test, y_test) = cifar10.load_data()"
   ]
  },
  {
   "cell_type": "code",
   "execution_count": 4,
   "metadata": {},
   "outputs": [],
   "source": [
    "x_train = x_train.astype('float32') / 255.0\n",
    "x_test = x_test.astype('float32') / 255.0\n",
    "\n",
    "y_train = to_categorical(y_train, NUM_CLASSES)\n",
    "y_test = to_categorical(y_test, NUM_CLASSES)"
   ]
  },
  {
   "cell_type": "code",
   "execution_count": 5,
   "metadata": {},
   "outputs": [
    {
     "data": {
      "text/plain": [
       "0.36862746"
      ]
     },
     "execution_count": 5,
     "metadata": {},
     "output_type": "execute_result"
    }
   ],
   "source": [
    "x_train[54, 12, 13, 1] "
   ]
  },
  {
   "cell_type": "markdown",
   "metadata": {},
   "source": [
    "# architecture\n",
    "\n",
    "网络结构如下图所示：\n",
    "\n",
    "<img src=\"figures/conv_nets.png\" alt=\"drawing\" width=\"600\"/>\n",
    "\n",
    "- The input shape is (None, 32, 32, 3)\n",
    "    - None: 任意多的图片（batch）\n",
    "- 第一层的filter 尺寸是4*4*3\n",
    "    - Kernel size: 4*4\n",
    "    - 3 channels：It’s worth remembering that the depth of the filters in a layer is always the same as the number of channels in the preceding layer.\n",
    "    - 一个kernel 的参数个数是4*4*3+1=49\n",
    "    - 整层的参数个数：49*10 = 490\n",
    "    - 第一层的输出是16*16*10\n",
    "    \n",
    "通常，当padding=same 的时候，一个conv层输出的tensor shape 是$(None, \\frac{input_height}{stride}, \\frac{input_width}{stride}, num\\_filters)$\n",
    "    \n",
    "- 第二层filter 尺寸是3*3*10，共20个filters\n",
    "    - 参数：（3*3*10+1）*20 = 1,820\n",
    "    - strides=2, padding=same\n",
    "    - output: (None,8,8,20)\n",
    "    \n",
    "- flatten layer:\n",
    "    - 输出一个长度为8*8*20 = 1,280 的向量\n",
    "    - 没有参数\n",
    "    \n",
    "- FC layer:\n",
    "    - 输入：长度为1280 的向量 \n",
    "    - 输出：10个category\n",
    "    - 参数个数：12,800"
   ]
  },
  {
   "cell_type": "code",
   "execution_count": null,
   "metadata": {},
   "outputs": [],
   "source": [
    "input_layer = Input(shape=(32,32,3))\n",
    "\n",
    "conv_layer_1 = Conv2D(\n",
    "    filters = 10\n",
    "    , kernel_size = (4,4)\n",
    "    , strides = 2\n",
    "    , padding = 'same'\n",
    "    )(input_layer)\n",
    "\n",
    "conv_layer_2 = Conv2D(\n",
    "    filters = 20\n",
    "    , kernel_size = (3,3)\n",
    "    , strides = 2\n",
    "    , padding = 'same'\n",
    "    )(conv_layer_1)\n",
    "\n",
    "flatten_layer = Flatten()(conv_layer_2)\n",
    "\n",
    "output_layer = Dense(units=10, activation = 'softmax')(flatten_layer)\n",
    "\n",
    "model = Model(input_layer, output_layer)"
   ]
  },
  {
   "cell_type": "code",
   "execution_count": null,
   "metadata": {},
   "outputs": [],
   "source": [
    "model.summary()"
   ]
  },
  {
   "cell_type": "markdown",
   "metadata": {},
   "source": [
    "### batch normalization\n",
    "\n",
    "#### exploding gradient problem\n",
    "\n",
    "原因：\n",
    "\n",
    "- unscaled input could potentially create huge activation values that immediately lead to exploding gradients. 这也是为什么我们需要把每个像素点先标准化到-1～+1之间的原因\n",
    "- covariate shift: 拿着一堆书的例子。\n",
    "\n",
    "解决方法：batch normalization\n",
    "\n",
    "对每一层输入的每个channel做一个normalization，类似于input。There are then two learned parameters for each channel, the scale (gamma) and shift (beta).\n",
    "\n",
    "We can place batch normalization layers after dense or convolutional layers to normalize the output from those layers.\n",
    "\n",
    "<img src=\"figures/batch_normalization.png\" alt=\"drawing\" width=\"300\"/>\n",
    "\n",
    "Test time:\n",
    "\n",
    "因为一次test 一个样本，有可能没办法做normalization, 所以also calculates the **moving average of the mean and standard deviation** of each channel and stores this value as part of the layer to use at test time. 这两个参数是nontrainable parameters.\n",
    "\n",
    "所以一个BN layer 一共有4个参数：2个trainable，2个non-trainable.\n",
    "\n",
    "Keras 中使用Batch Normalization Layer：\n",
    "\n",
    "```python\n",
    "BatchNormalization(momentum = 0.9)\n",
    "```\n",
    "\n",
    "momentum 计算moving average 时给之前值的权重。 \n",
    "\n",
    "### dropout\n",
    "\n",
    "Overfitting -> regularization\n",
    "\n",
    "dropout layers 是一种解决overfitting 的方法。\n",
    "\n",
    "reference: Dropout: A Simple Way to Prevent Neural Networks from Overfitting\n",
    "\n",
    "dropout 一般是接在dense layer 之后使用，因为dense layer 的参数比较多，很容易overfit.\n",
    "\n",
    "BN 同样有减少overfitting 的作用，所以很多流行的network 不实用dropout，只使用BN 来做Regularization."
   ]
  },
  {
   "cell_type": "code",
   "execution_count": 6,
   "metadata": {},
   "outputs": [],
   "source": [
    "input_layer = Input((32,32,3))\n",
    "\n",
    "x = Conv2D(filters = 32, kernel_size = 3, strides = 1, padding = 'same')(input_layer)\n",
    "x = BatchNormalization()(x)\n",
    "x = LeakyReLU()(x)\n",
    "\n",
    "\n",
    "x = Conv2D(filters = 32, kernel_size = 3, strides = 2, padding = 'same')(x)\n",
    "x = BatchNormalization()(x)\n",
    "x = LeakyReLU()(x)\n",
    "\n",
    "\n",
    "x = Conv2D(filters = 64, kernel_size = 3, strides = 1, padding = 'same')(x)\n",
    "x = BatchNormalization()(x)\n",
    "x = LeakyReLU()(x)\n",
    "\n",
    "\n",
    "x = Conv2D(filters = 64, kernel_size = 3, strides = 2, padding = 'same')(x)\n",
    "x = BatchNormalization()(x)\n",
    "x = LeakyReLU()(x)\n",
    "\n",
    "\n",
    "x = Flatten()(x)\n",
    "\n",
    "x = Dense(128)(x)\n",
    "x = BatchNormalization()(x)\n",
    "x = LeakyReLU()(x)\n",
    "x = Dropout(rate = 0.5)(x)\n",
    "\n",
    "x = Dense(NUM_CLASSES)(x)\n",
    "output_layer = Activation('softmax')(x)\n",
    "\n",
    "model = Model(input_layer, output_layer)"
   ]
  },
  {
   "cell_type": "code",
   "execution_count": 7,
   "metadata": {},
   "outputs": [
    {
     "name": "stdout",
     "output_type": "stream",
     "text": [
      "Model: \"model_1\"\n",
      "_________________________________________________________________\n",
      "Layer (type)                 Output Shape              Param #   \n",
      "=================================================================\n",
      "input_1 (InputLayer)         (None, 32, 32, 3)         0         \n",
      "_________________________________________________________________\n",
      "conv2d_1 (Conv2D)            (None, 32, 32, 32)        896       \n",
      "_________________________________________________________________\n",
      "batch_normalization_1 (Batch (None, 32, 32, 32)        128       \n",
      "_________________________________________________________________\n",
      "leaky_re_lu_1 (LeakyReLU)    (None, 32, 32, 32)        0         \n",
      "_________________________________________________________________\n",
      "conv2d_2 (Conv2D)            (None, 16, 16, 32)        9248      \n",
      "_________________________________________________________________\n",
      "batch_normalization_2 (Batch (None, 16, 16, 32)        128       \n",
      "_________________________________________________________________\n",
      "leaky_re_lu_2 (LeakyReLU)    (None, 16, 16, 32)        0         \n",
      "_________________________________________________________________\n",
      "conv2d_3 (Conv2D)            (None, 16, 16, 64)        18496     \n",
      "_________________________________________________________________\n",
      "batch_normalization_3 (Batch (None, 16, 16, 64)        256       \n",
      "_________________________________________________________________\n",
      "leaky_re_lu_3 (LeakyReLU)    (None, 16, 16, 64)        0         \n",
      "_________________________________________________________________\n",
      "conv2d_4 (Conv2D)            (None, 8, 8, 64)          36928     \n",
      "_________________________________________________________________\n",
      "batch_normalization_4 (Batch (None, 8, 8, 64)          256       \n",
      "_________________________________________________________________\n",
      "leaky_re_lu_4 (LeakyReLU)    (None, 8, 8, 64)          0         \n",
      "_________________________________________________________________\n",
      "flatten_1 (Flatten)          (None, 4096)              0         \n",
      "_________________________________________________________________\n",
      "dense_1 (Dense)              (None, 128)               524416    \n",
      "_________________________________________________________________\n",
      "batch_normalization_5 (Batch (None, 128)               512       \n",
      "_________________________________________________________________\n",
      "leaky_re_lu_5 (LeakyReLU)    (None, 128)               0         \n",
      "_________________________________________________________________\n",
      "dropout_1 (Dropout)          (None, 128)               0         \n",
      "_________________________________________________________________\n",
      "dense_2 (Dense)              (None, 10)                1290      \n",
      "_________________________________________________________________\n",
      "activation_1 (Activation)    (None, 10)                0         \n",
      "=================================================================\n",
      "Total params: 592,554\n",
      "Trainable params: 591,914\n",
      "Non-trainable params: 640\n",
      "_________________________________________________________________\n"
     ]
    }
   ],
   "source": [
    "model.summary()"
   ]
  },
  {
   "cell_type": "markdown",
   "metadata": {},
   "source": [
    "# train"
   ]
  },
  {
   "cell_type": "code",
   "execution_count": 8,
   "metadata": {},
   "outputs": [],
   "source": [
    "opt = Adam(lr=0.0005)\n",
    "model.compile(loss='categorical_crossentropy', optimizer=opt, metrics=['accuracy'])"
   ]
  },
  {
   "cell_type": "code",
   "execution_count": 9,
   "metadata": {},
   "outputs": [
    {
     "name": "stdout",
     "output_type": "stream",
     "text": [
      "WARNING:tensorflow:From /Users/chenwang/opt/anaconda3/envs/tf/lib/python3.6/site-packages/keras/backend/tensorflow_backend.py:422: The name tf.global_variables is deprecated. Please use tf.compat.v1.global_variables instead.\n",
      "\n",
      "Train on 50000 samples, validate on 10000 samples\n",
      "Epoch 1/10\n",
      "50000/50000 [==============================] - 186s 4ms/step - loss: 1.5412 - accuracy: 0.4636 - val_loss: 1.3303 - val_accuracy: 0.5252\n",
      "Epoch 2/10\n",
      "50000/50000 [==============================] - 165s 3ms/step - loss: 1.1531 - accuracy: 0.5927 - val_loss: 1.1307 - val_accuracy: 0.5893\n",
      "Epoch 3/10\n",
      "50000/50000 [==============================] - 172s 3ms/step - loss: 1.0171 - accuracy: 0.6446 - val_loss: 1.0145 - val_accuracy: 0.6443\n",
      "Epoch 4/10\n",
      "50000/50000 [==============================] - 170s 3ms/step - loss: 0.9244 - accuracy: 0.6782 - val_loss: 0.8915 - val_accuracy: 0.6932\n",
      "Epoch 5/10\n",
      "50000/50000 [==============================] - 170s 3ms/step - loss: 0.8615 - accuracy: 0.7000 - val_loss: 0.9515 - val_accuracy: 0.6666\n",
      "Epoch 6/10\n",
      "50000/50000 [==============================] - 180s 4ms/step - loss: 0.8135 - accuracy: 0.7169 - val_loss: 0.9191 - val_accuracy: 0.6774\n",
      "Epoch 7/10\n",
      "50000/50000 [==============================] - 175s 3ms/step - loss: 0.7667 - accuracy: 0.7333 - val_loss: 0.8257 - val_accuracy: 0.7153\n",
      "Epoch 8/10\n",
      "50000/50000 [==============================] - 194s 4ms/step - loss: 0.7266 - accuracy: 0.7455 - val_loss: 0.9639 - val_accuracy: 0.6665\n",
      "Epoch 9/10\n",
      "50000/50000 [==============================] - 186s 4ms/step - loss: 0.6911 - accuracy: 0.7583 - val_loss: 0.8736 - val_accuracy: 0.7011\n",
      "Epoch 10/10\n",
      "50000/50000 [==============================] - 182s 4ms/step - loss: 0.6576 - accuracy: 0.7705 - val_loss: 0.9360 - val_accuracy: 0.6773\n"
     ]
    },
    {
     "data": {
      "text/plain": [
       "<keras.callbacks.callbacks.History at 0x640078d30>"
      ]
     },
     "execution_count": 9,
     "metadata": {},
     "output_type": "execute_result"
    }
   ],
   "source": [
    "model.fit(x_train\n",
    "          , y_train\n",
    "          , batch_size=32\n",
    "          , epochs=10\n",
    "          , shuffle=True\n",
    "          , validation_data = (x_test, y_test))"
   ]
  },
  {
   "cell_type": "code",
   "execution_count": 14,
   "metadata": {},
   "outputs": [
    {
     "data": {
      "text/plain": [
       "[array([1.0049627 , 1.1082308 , 0.9595764 , 1.0010861 , 1.4464476 ,\n",
       "        0.9862525 , 1.1199636 , 0.7491369 , 1.1441231 , 1.2955115 ,\n",
       "        1.0023957 , 0.75194   , 0.87878865, 0.82159257, 1.2121979 ,\n",
       "        0.9304752 , 0.7770894 , 0.95797235, 0.81247956, 0.8902274 ,\n",
       "        1.1641147 , 0.77230597, 0.78333056, 0.96611065, 1.0712895 ,\n",
       "        0.8178045 , 1.194295  , 0.7571858 , 0.9810741 , 1.161705  ,\n",
       "        1.1242554 , 1.3273948 ], dtype=float32),\n",
       " array([ 0.10660601,  0.08919386,  0.04358615,  0.09217341,  0.4553812 ,\n",
       "         0.4531517 ,  0.54663175, -0.25226235,  0.0247831 ,  0.42097968,\n",
       "        -0.0506655 , -0.06472366, -0.16808416, -0.02219116, -0.00112522,\n",
       "         0.03607418, -0.20204397,  0.15577018, -0.13926937, -0.15612845,\n",
       "         0.09291118, -0.17922322, -0.35279712, -0.05792269,  0.04404805,\n",
       "        -0.17714383,  0.11118343, -0.25836375,  0.04345207,  0.0543161 ,\n",
       "         0.01203099,  0.10757452], dtype=float32),\n",
       " array([ 0.01934526, -0.05918358, -0.01081633, -0.07387921,  0.00506972,\n",
       "        -0.06826065,  0.01556407,  0.0999345 ,  0.02918703,  0.06602927,\n",
       "         0.01366318, -0.00504331, -0.23313434,  0.01355191,  0.00634828,\n",
       "        -0.06574909, -0.11527754,  0.01992385,  0.18885511, -0.12165204,\n",
       "         0.09168489, -0.12066621, -0.21452512, -0.01041359, -0.1161214 ,\n",
       "        -0.0204569 , -0.02078895,  0.15517351, -0.08832375,  0.0145758 ,\n",
       "         0.05173733, -0.04342253], dtype=float32),\n",
       " array([0.00978459, 0.01626406, 0.02529573, 0.00617487, 0.00448012,\n",
       "        0.00673895, 0.00268407, 0.01125246, 0.02123548, 0.00463212,\n",
       "        0.01579104, 0.01176993, 0.02004517, 0.00554294, 0.00210857,\n",
       "        0.00337636, 0.00984413, 0.01081896, 0.0249749 , 0.00807512,\n",
       "        0.00635439, 0.01244187, 0.0250573 , 0.00339814, 0.01837833,\n",
       "        0.00519831, 0.00605055, 0.01918594, 0.00416331, 0.00367772,\n",
       "        0.00303262, 0.00278186], dtype=float32)]"
      ]
     },
     "execution_count": 14,
     "metadata": {},
     "output_type": "execute_result"
    }
   ],
   "source": [
    "model.layers[2].get_weights()"
   ]
  },
  {
   "cell_type": "markdown",
   "metadata": {},
   "source": [
    "# analysis"
   ]
  },
  {
   "cell_type": "code",
   "execution_count": 15,
   "metadata": {},
   "outputs": [
    {
     "name": "stdout",
     "output_type": "stream",
     "text": [
      "10000/10000 [==============================] - 9s 902us/step\n"
     ]
    },
    {
     "data": {
      "text/plain": [
       "[0.9360362529754639, 0.677299976348877]"
      ]
     },
     "execution_count": 15,
     "metadata": {},
     "output_type": "execute_result"
    }
   ],
   "source": [
    "model.evaluate(x_test, y_test, batch_size=1000)"
   ]
  },
  {
   "cell_type": "markdown",
   "metadata": {},
   "source": []
  },
  {
   "cell_type": "code",
   "execution_count": 16,
   "metadata": {},
   "outputs": [],
   "source": [
    "CLASSES = np.array(['airplane', 'automobile', 'bird', 'cat', 'deer', 'dog', 'frog', 'horse', 'ship', 'truck'])\n",
    "\n",
    "preds = model.predict(x_test)\n",
    "preds_single = CLASSES[np.argmax(preds, axis = -1)]\n",
    "actual_single = CLASSES[np.argmax(y_test, axis = -1)]"
   ]
  },
  {
   "cell_type": "code",
   "execution_count": 17,
   "metadata": {},
   "outputs": [
    {
     "data": {
      "image/png": "[encoded data removed]",
      "text/plain": [
       "<Figure size 1080x216 with 10 Axes>"
      ]
     },
     "metadata": {
      "needs_background": "light"
     },
     "output_type": "display_data"
    }
   ],
   "source": [
    "import matplotlib.pyplot as plt\n",
    "\n",
    "n_to_show = 10\n",
    "indices = np.random.choice(range(len(x_test)), n_to_show)\n",
    "\n",
    "fig = plt.figure(figsize=(15, 3))\n",
    "fig.subplots_adjust(hspace=0.4, wspace=0.4)\n",
    "\n",
    "for i, idx in enumerate(indices):\n",
    "    img = x_test[idx]\n",
    "    ax = fig.add_subplot(1, n_to_show, i+1)\n",
    "    ax.axis('off')\n",
    "    ax.text(0.5, -0.35, 'pred = ' + str(preds_single[idx]), fontsize=10, ha='center', transform=ax.transAxes) \n",
    "    ax.text(0.5, -0.7, 'act = ' + str(actual_single[idx]), fontsize=10, ha='center', transform=ax.transAxes)\n",
    "    ax.imshow(img)\n"
   ]
  },
  {
   "cell_type": "code",
   "execution_count": null,
   "metadata": {},
   "outputs": [],
   "source": []
  },
  {
   "cell_type": "code",
   "execution_count": 18,
   "metadata": {},
   "outputs": [],
   "source": [
    "model.save('cnn_model')"
   ]
  },
  {
   "cell_type": "code",
   "execution_count": null,
   "metadata": {},
   "outputs": [],
   "source": [
    "loaded_model = tf.keras.models.load_model('cnn_model')"
   ]
  }
 ],
 "metadata": {
  "kernelspec": {
   "display_name": "Python [conda env:tf] *",
   "language": "python",
   "name": "conda-env-tf-py"
  },
  "language_info": {
   "codemirror_mode": {
    "name": "ipython",
    "version": 3
   },
   "file_extension": ".py",
   "mimetype": "text/x-python",
   "name": "python",
   "nbconvert_exporter": "python",
   "pygments_lexer": "ipython3",
   "version": "3.6.10"
  }
 },
 "nbformat": 4,
 "nbformat_minor": 2
}
